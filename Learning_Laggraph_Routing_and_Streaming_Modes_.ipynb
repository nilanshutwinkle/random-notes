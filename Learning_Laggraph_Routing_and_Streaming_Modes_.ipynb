{
  "nbformat": 4,
  "nbformat_minor": 0,
  "metadata": {
    "colab": {
      "provenance": [],
      "authorship_tag": "ABX9TyNzwKPGgyZk5vqkpGdS5H7L",
      "include_colab_link": true
    },
    "kernelspec": {
      "name": "python3",
      "display_name": "Python 3"
    },
    "language_info": {
      "name": "python"
    }
  },
  "cells": [
    {
      "cell_type": "markdown",
      "metadata": {
        "id": "view-in-github",
        "colab_type": "text"
      },
      "source": [
        "<a href=\"https://colab.research.google.com/github/nilanshutwinkle/random-notes/blob/master/Learning_Laggraph_Routing_and_Streaming_Modes_.ipynb\" target=\"_parent\"><img src=\"https://colab.research.google.com/assets/colab-badge.svg\" alt=\"Open In Colab\"/></a>"
      ]
    },
    {
      "cell_type": "code",
      "execution_count": 2,
      "metadata": {
        "colab": {
          "base_uri": "https://localhost:8080/"
        },
        "id": "jVZ3rR2y5bA4",
        "outputId": "976e1464-c344-4211-ac40-2ee90b2537d3"
      },
      "outputs": [
        {
          "output_type": "stream",
          "name": "stdout",
          "text": [
            "\u001b[2K     \u001b[90m━━━━━━━━━━━━━━━━━━━━━━━━━━━━━━━━━━━━━━━━\u001b[0m \u001b[32m43.7/43.7 kB\u001b[0m \u001b[31m2.5 MB/s\u001b[0m eta \u001b[36m0:00:00\u001b[0m\n",
            "\u001b[2K   \u001b[90m━━━━━━━━━━━━━━━━━━━━━━━━━━━━━━━━━━━━━━━━\u001b[0m \u001b[32m65.2/65.2 kB\u001b[0m \u001b[31m3.8 MB/s\u001b[0m eta \u001b[36m0:00:00\u001b[0m\n",
            "\u001b[2K   \u001b[90m━━━━━━━━━━━━━━━━━━━━━━━━━━━━━━━━━━━━━━━━\u001b[0m \u001b[32m209.2/209.2 kB\u001b[0m \u001b[31m7.1 MB/s\u001b[0m eta \u001b[36m0:00:00\u001b[0m\n",
            "\u001b[2K   \u001b[90m━━━━━━━━━━━━━━━━━━━━━━━━━━━━━━━━━━━━━━━━\u001b[0m \u001b[32m2.5/2.5 MB\u001b[0m \u001b[31m45.1 MB/s\u001b[0m eta \u001b[36m0:00:00\u001b[0m\n",
            "\u001b[2K   \u001b[90m━━━━━━━━━━━━━━━━━━━━━━━━━━━━━━━━━━━━━━━━\u001b[0m \u001b[32m438.1/438.1 kB\u001b[0m \u001b[31m23.6 MB/s\u001b[0m eta \u001b[36m0:00:00\u001b[0m\n",
            "\u001b[2K   \u001b[90m━━━━━━━━━━━━━━━━━━━━━━━━━━━━━━━━━━━━━━━━\u001b[0m \u001b[32m152.4/152.4 kB\u001b[0m \u001b[31m8.9 MB/s\u001b[0m eta \u001b[36m0:00:00\u001b[0m\n",
            "\u001b[2K   \u001b[90m━━━━━━━━━━━━━━━━━━━━━━━━━━━━━━━━━━━━━━━━\u001b[0m \u001b[32m44.2/44.2 kB\u001b[0m \u001b[31m2.2 MB/s\u001b[0m eta \u001b[36m0:00:00\u001b[0m\n",
            "\u001b[2K   \u001b[90m━━━━━━━━━━━━━━━━━━━━━━━━━━━━━━━━━━━━━━━━\u001b[0m \u001b[32m50.0/50.0 kB\u001b[0m \u001b[31m3.0 MB/s\u001b[0m eta \u001b[36m0:00:00\u001b[0m\n",
            "\u001b[2K   \u001b[90m━━━━━━━━━━━━━━━━━━━━━━━━━━━━━━━━━━━━━━━━\u001b[0m \u001b[32m363.0/363.0 kB\u001b[0m \u001b[31m18.5 MB/s\u001b[0m eta \u001b[36m0:00:00\u001b[0m\n",
            "\u001b[2K   \u001b[90m━━━━━━━━━━━━━━━━━━━━━━━━━━━━━━━━━━━━━━━━\u001b[0m \u001b[32m44.4/44.4 kB\u001b[0m \u001b[31m2.3 MB/s\u001b[0m eta \u001b[36m0:00:00\u001b[0m\n",
            "\u001b[2K   \u001b[90m━━━━━━━━━━━━━━━━━━━━━━━━━━━━━━━━━━━━━━━━\u001b[0m \u001b[32m50.9/50.9 kB\u001b[0m \u001b[31m3.0 MB/s\u001b[0m eta \u001b[36m0:00:00\u001b[0m\n",
            "\u001b[2K   \u001b[90m━━━━━━━━━━━━━━━━━━━━━━━━━━━━━━━━━━━━━━━━\u001b[0m \u001b[32m216.5/216.5 kB\u001b[0m \u001b[31m12.5 MB/s\u001b[0m eta \u001b[36m0:00:00\u001b[0m\n",
            "\u001b[?25h"
          ]
        }
      ],
      "source": [
        "!pip install langchain langchain_openai langchain-experimental langchain-community openai langchain-core langgraph --quiet"
      ]
    },
    {
      "cell_type": "code",
      "source": [
        "import os, sys, re, json, asyncio\n",
        "\n",
        "from langchain_openai import ChatOpenAI\n",
        "from langgraph.graph import StateGraph, MessagesState, START, END\n",
        "from langgraph.checkpoint.memory import MemorySaver\n",
        "from langgraph.prebuilt import ToolNode, tools_condition\n",
        "from dotenv import load_dotenv\n",
        "from google.colab import userdata\n",
        "\n",
        "load_dotenv()"
      ],
      "metadata": {
        "colab": {
          "base_uri": "https://localhost:8080/"
        },
        "id": "eEUeyBEH5ci_",
        "outputId": "3b56a7a3-e728-4b59-89fb-4299a1900d59"
      },
      "execution_count": 3,
      "outputs": [
        {
          "output_type": "execute_result",
          "data": {
            "text/plain": [
              "False"
            ]
          },
          "metadata": {},
          "execution_count": 3
        }
      ]
    },
    {
      "cell_type": "code",
      "source": [
        "llm = ChatOpenAI(model = 'gpt-4o-mini', temperature = 0, api_key = userdata.get('OPENAI_API_KEY'))"
      ],
      "metadata": {
        "id": "WbBeAJ7I5fTv"
      },
      "execution_count": 4,
      "outputs": []
    },
    {
      "cell_type": "code",
      "source": [
        "def multiply(a:int, b:int):\n",
        "  \"\"\" Multiply two numbers \"\"\"\n",
        "  return a * b"
      ],
      "metadata": {
        "id": "bIy1oIOB55zW"
      },
      "execution_count": 5,
      "outputs": []
    },
    {
      "cell_type": "code",
      "source": [
        "llm_with_tools = llm.bind_tools([multiply])"
      ],
      "metadata": {
        "id": "a1K2mwm16M5x"
      },
      "execution_count": 6,
      "outputs": []
    },
    {
      "cell_type": "code",
      "source": [
        "def tool_calling_llm(state: MessagesState):\n",
        "  \"\"\" Node that calls the LLM with tools bound. \"\"\"\n",
        "  return {\"messages\": [llm_with_tools.invoke(state[\"messages\"])]}"
      ],
      "metadata": {
        "id": "ZMkEukey6S1L"
      },
      "execution_count": 7,
      "outputs": []
    },
    {
      "cell_type": "code",
      "source": [
        "workflow = StateGraph(MessagesState)\n",
        "\n",
        "workflow.add_node(\"tool_calling_llm\", tool_calling_llm)\n",
        "workflow.add_node(\"tools\", ToolNode([multiply]))\n",
        "\n",
        "workflow.add_edge(START, \"tool_calling_llm\")\n",
        "\n",
        "# Adding conditional edge based on tool usage\n",
        "workflow.add_conditional_edges(\n",
        "    \"tool_calling_llm\",\n",
        "    tools_condition # Condition to decide if the model should call the tool\n",
        ")\n",
        "\n",
        "workflow.add_edge(\"tools\", END)\n",
        "graph = workflow.compile()\n",
        "graph"
      ],
      "metadata": {
        "colab": {
          "base_uri": "https://localhost:8080/",
          "height": 350
        },
        "id": "XnkwvP2r60CW",
        "outputId": "3f9cbf91-3493-430d-dbf5-a9596ad92c56"
      },
      "execution_count": 10,
      "outputs": [
        {
          "output_type": "execute_result",
          "data": {
            "text/plain": [
              "<langgraph.graph.state.CompiledStateGraph object at 0x78562fe7d7d0>"
            ],
            "image/png": "[encoded data removed]"
          },
          "metadata": {},
          "execution_count": 10
        }
      ]
    },
    {
      "cell_type": "code",
      "source": [
        "def simulate():\n",
        "  user_input = {\"messages\": [(\"human\", \"what is the product of 5 and 3?\")]}\n",
        "  result = graph.invoke(user_input)\n",
        "  print(result[\"messages\"][-1].pretty_print())\n",
        "\n",
        "  user_input = {\"messages\": [(\"human\", \"tell me a joke\")]}\n",
        "  result = graph.invoke(user_input)\n",
        "  print(result[\"messages\"][-1].pretty_print())\n",
        "\n",
        "simulate()"
      ],
      "metadata": {
        "colab": {
          "base_uri": "https://localhost:8080/"
        },
        "id": "Bd0SE5e88aPE",
        "outputId": "75ebbb2f-ed89-4779-8820-84e2baf69488"
      },
      "execution_count": 12,
      "outputs": [
        {
          "output_type": "stream",
          "name": "stdout",
          "text": [
            "=================================\u001b[1m Tool Message \u001b[0m=================================\n",
            "Name: multiply\n",
            "\n",
            "15\n",
            "None\n",
            "==================================\u001b[1m Ai Message \u001b[0m==================================\n",
            "\n",
            "Why don't scientists trust atoms?\n",
            "\n",
            "Because they make up everything!\n",
            "None\n"
          ]
        }
      ]
    },
    {
      "cell_type": "code",
      "source": [],
      "metadata": {
        "id": "Nu3LsIu-BahJ"
      },
      "execution_count": null,
      "outputs": []
    },
    {
      "cell_type": "markdown",
      "source": [
        "## Streaming Modes\n",
        "---\n",
        "- Full State Streaming: Streams the entire state after each node\n",
        "execution ( stream_mode=\"values\" ).\n",
        "- Updates Streaming: Streams only the updates after each node\n",
        "execution ( stream_mode=\"updates\" ).\n",
        "- LLM Token Streaming: Streams the tokens generated by the\n",
        "language model ( stream_mode=\"messages\" with a model that\n",
        "supports token streaming).\n",
        "- You can combine streaming modes using stream_mode=\n",
        "[\"messages\",”updates”]\n",
        "By using these streaming modes,"
      ],
      "metadata": {
        "id": "tAWE6hilHK1X"
      }
    },
    {
      "cell_type": "code",
      "source": [
        "import operator\n",
        "from langgraph.graph import StateGraph, MessagesState, START, END\n",
        "from langchain_openai import ChatOpenAI\n",
        "from typing import Annotated\n",
        "from typing_extensions import TypedDict\n",
        "import asyncio\n",
        "from langgraph.graph.message import add_messages\n",
        "from langchain_core.messages import AIMessageChunk, HumanMessage\n",
        "# Define the state schema\n",
        "class State(TypedDict):\n",
        "    messages: Annotated[list, add_messages]\n",
        "\n",
        "\n",
        "# Initialize the LLM\n",
        "model = ChatOpenAI(model=\"gpt-4o-mini\")\n",
        "# Define a node to handle LLM queries\n",
        "async def call_llm(state: State):\n",
        "    messages = state[\"messages\"]\n",
        "    response = await model.ainvoke(messages)\n",
        "    return {\"messages\": [response]}\n",
        "# Define the graph\n",
        "workflow = StateGraph(State)\n",
        "workflow.add_node(\"call_llm\", call_llm)\n",
        "workflow.add_edge(START, \"call_llm\")\n",
        "workflow.add_edge(\"call_llm\", END)\n",
        "app = workflow.compile()\n",
        "# Simulate interaction and stream tokens\n",
        "async def simulate_interaction():\n",
        "    input_message = {\"messages\": [(\"human\", \"Tell me a very long joke\")]}\n",
        "    first = True\n",
        "    # Stream LLM tokens\n",
        "    async for msg, metadata in app.astream(input_message, stream_mode=\"messages\"):\n",
        "        if msg.content and not isinstance(msg, HumanMessage):\n",
        "            print(msg.content, end=\"|\", flush=True)\n",
        "        if isinstance(msg, AIMessageChunk):\n",
        "            if first:\n",
        "                gathered = msg\n",
        "                first = False\n",
        "            else:\n",
        "                gathered = gathered + msg\n",
        "                if msg.tool_call_chunks:\n",
        "                    (gathered.tool_calls)\n",
        "asyncio.run(simulate_interaction())"
      ],
      "metadata": {
        "id": "T1kuVBXHHaEk"
      },
      "execution_count": null,
      "outputs": []
    },
    {
      "cell_type": "markdown",
      "source": [
        "### Combining Streaming Modes => Updates + Custom"
      ],
      "metadata": {
        "id": "LZQK7RP_INxo"
      }
    },
    {
      "cell_type": "code",
      "source": [
        "from langgraph.graph import StateGraph, MessagesState, START, END\n",
        "from time import sleep\n",
        "from langgraph.types import StreamWriter"
      ],
      "metadata": {
        "id": "eYwrIwVoIX7C"
      },
      "execution_count": 3,
      "outputs": []
    },
    {
      "cell_type": "code",
      "source": [
        "def long_running_node(state: MessagesState, writer:StreamWriter):\n",
        "  for i in range(6):\n",
        "    sleep(1)\n",
        "    writer({\"progress\": f\"Processing step: {i/5*100}\"})\n",
        "  return {\"messages\": [\"Task completed!!\"]}"
      ],
      "metadata": {
        "id": "dDcArD7aI1ee"
      },
      "execution_count": 4,
      "outputs": []
    },
    {
      "cell_type": "code",
      "source": [
        "workflow = StateGraph(MessagesState)\n",
        "\n",
        "workflow.add_node(\"long_running_node\", long_running_node)\n",
        "\n",
        "workflow.add_edge(START, \"long_running_node\")\n",
        "workflow.add_edge(\"long_running_node\", END)\n",
        "graph = workflow.compile()\n",
        "graph"
      ],
      "metadata": {
        "colab": {
          "base_uri": "https://localhost:8080/",
          "height": 251
        },
        "id": "Q_vUAv6RK53Q",
        "outputId": "001485f8-97f5-44ac-bd5d-57a3592a3edf"
      },
      "execution_count": 5,
      "outputs": [
        {
          "output_type": "execute_result",
          "data": {
            "text/plain": [
              "<langgraph.graph.state.CompiledStateGraph object at 0x7c8a37819dd0>"
            ],
            "image/png": "[encoded data removed]"
          },
          "metadata": {},
          "execution_count": 5
        }
      ]
    },
    {
      "cell_type": "code",
      "source": [
        "def simulate_interaction():\n",
        "  input_message = {\"messages\": [(\"human\", \"Start a long running task\")]}\n",
        "  for result in graph.stream(input_message, stream_mode=[\n",
        "                                                        \"updates\", # streaming mode for delta changes in the nodes\n",
        "                                                        \"custom\"   # streaming mode to capture custom node (streaming)\n",
        "                                                        ]):\n",
        "    print(result[-1])"
      ],
      "metadata": {
        "id": "hqArSHHILIX9"
      },
      "execution_count": 8,
      "outputs": []
    },
    {
      "cell_type": "code",
      "source": [
        "simulate_interaction()"
      ],
      "metadata": {
        "colab": {
          "base_uri": "https://localhost:8080/"
        },
        "id": "iF9sSWhWMBXL",
        "outputId": "1872b944-9c60-46fb-e292-c89fae8b59c8"
      },
      "execution_count": 9,
      "outputs": [
        {
          "output_type": "stream",
          "name": "stdout",
          "text": [
            "{'progress': 'Processing step: 0.0'}\n",
            "{'progress': 'Processing step: 20.0'}\n",
            "{'progress': 'Processing step: 40.0'}\n",
            "{'progress': 'Processing step: 60.0'}\n",
            "{'progress': 'Processing step: 80.0'}\n",
            "{'progress': 'Processing step: 100.0'}\n",
            "{'long_running_node': {'messages': ['Task completed!!']}}\n"
          ]
        }
      ]
    },
    {
      "cell_type": "markdown",
      "source": [
        "## Disabling Streaming for a particular node"
      ],
      "metadata": {
        "id": "SEYx-YlnPxLH"
      }
    },
    {
      "cell_type": "code",
      "source": [
        "from langgraph.graph import StateGraph, MessagesState, START, END\n",
        "from langchain_openai import ChatOpenAI\n",
        "from langchain.callbacks.streaming_stdout import StreamingStdOutCallbackHandler\n",
        "from google.colab import userdata"
      ],
      "metadata": {
        "id": "DEjr_bK8MC11"
      },
      "execution_count": 18,
      "outputs": []
    },
    {
      "cell_type": "code",
      "source": [
        "llm_streaming = ChatOpenAI(\n",
        "    model = \"gpt-4o-mini\",\n",
        "    temperature = 1,\n",
        "    streaming = True,\n",
        "    callbacks = [StreamingStdOutCallbackHandler()],\n",
        "    api_key = userdata.get(\"OPENAI_API_KEY\")\n",
        ")\n",
        "\n",
        "llm_with_no_streaming = ChatOpenAI(\n",
        "    model = \"gpt-4o-mini\",\n",
        "    temperature = 1,\n",
        "    streaming = False,\n",
        "    api_key = userdata.get(\"OPENAI_API_KEY\")\n",
        ")"
      ],
      "metadata": {
        "id": "6rIRKngKQUb3"
      },
      "execution_count": 19,
      "outputs": []
    },
    {
      "cell_type": "code",
      "source": [
        "def create_graph(llm):\n",
        "  workflow = StateGraph(MessagesState)\n",
        "\n",
        "  def chatbot(state: MessagesState):\n",
        "    return {\"messages\": [llm.invoke(state[\"messages\"] if isinstance(state[\"messages\"], list) else [state[\"messages\"]])]}\n",
        "\n",
        "  workflow.add_node(\"chatbot\", chatbot)\n",
        "  workflow.add_edge(START, \"chatbot\")\n",
        "  workflow.add_edge(\"chatbot\", END)\n",
        "  return workflow.compile()"
      ],
      "metadata": {
        "id": "G8Rmk6zVR3sH"
      },
      "execution_count": 20,
      "outputs": []
    },
    {
      "cell_type": "code",
      "source": [
        "input = {\n",
        "    \"messages\": [\n",
        "        {\n",
        "            \"role\": \"human\",\n",
        "            \"content\": \"How many 'a' as are there in Atlanta?\"\n",
        "        }\n",
        "    ]\n",
        "}\n",
        "\n",
        "print(\"With streaming enabled ... \")\n",
        "graph_with_streaming = create_graph(llm_streaming).invoke(input)\n",
        "\n",
        "print(\"\\n\\nWith streaming disabled ... \")\n",
        "graph_with_no_streaming = create_graph(llm_with_no_streaming).invoke(input)\n",
        "for output in graph_with_streaming[\"messages\"]:\n",
        "  print(output)\n",
        "  if isinstance(output, dict) and 'chatbot' in output:\n",
        "    message = output['chatbot'][\"messages\"]\n",
        "    print(message.content, end = \"\", flush = True)"
      ],
      "metadata": {
        "colab": {
          "base_uri": "https://localhost:8080/"
        },
        "id": "ozMWq-d3VJ0S",
        "outputId": "2fd8fd30-4f76-4c09-f20b-e8cddd35c2ab"
      },
      "execution_count": 22,
      "outputs": [
        {
          "output_type": "stream",
          "name": "stdout",
          "text": [
            "With streaming enabled ... \n",
            "There are two 'a's in the word \"Atlanta.\"\n",
            "\n",
            "With streaming disabled ... \n",
            "content=\"How many 'a' as are there in Atlanta?\" additional_kwargs={} response_metadata={} id='842cbdd3-9457-4476-beba-aa358b81b0bb'\n",
            "content='There are two \\'a\\'s in the word \"Atlanta.\"' additional_kwargs={} response_metadata={'finish_reason': 'stop', 'model_name': 'gpt-4o-mini-2024-07-18', 'system_fingerprint': 'fp_34a54ae93c', 'service_tier': 'default'} id='run--202ef44e-a58f-462f-bc0a-05bc2539d637-0'\n"
          ]
        }
      ]
    },
    {
      "cell_type": "code",
      "source": [],
      "metadata": {
        "id": "vHnTUcpiWrgO"
      },
      "execution_count": null,
      "outputs": []
    }
  ]
}